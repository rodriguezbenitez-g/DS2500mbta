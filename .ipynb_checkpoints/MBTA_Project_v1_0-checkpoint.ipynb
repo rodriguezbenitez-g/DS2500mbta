{
 "cells": [
  {
   "cell_type": "markdown",
   "metadata": {
    "id": "4l77ZyZCCFo7"
   },
   "source": []
  },
  {
   "cell_type": "markdown",
   "metadata": {
    "id": "1xeteFbTv1ri"
   },
   "source": []
  },
  {
   "cell_type": "markdown",
   "metadata": {
    "id": "FQCbkCJ3C4FG"
   },
   "source": [
    "# Imports"
   ]
  },
  {
   "cell_type": "code",
   "execution_count": 1,
   "metadata": {
    "executionInfo": {
     "elapsed": 247,
     "status": "ok",
     "timestamp": 1617161697377,
     "user": {
      "displayName": "Gisselle Rodriguez Benitez",
      "photoUrl": "https://lh3.googleusercontent.com/a-/AOh14GiJHPCHjTtc-xW3tSVl2uMDuz1oyPrHUxdQJrJ9HQ=s64",
      "userId": "04892209206852776337"
     },
     "user_tz": 240
    },
    "id": "GTslNbWbrpq4"
   },
   "outputs": [],
   "source": [
    "#imports\n",
    "import pandas as pd\n",
    "import re\n",
    "from datetime import date"
   ]
  },
  {
   "cell_type": "markdown",
   "metadata": {
    "id": "VZXzQ7ZhQl3-"
   },
   "source": [
    "# Read and Clean Data\n",
    "\n",
    "\n",
    "*   Demographics - survey_data\n",
    "*   Ridership - ridership_2019data / \n",
    "ridership_2020data\n",
    "*   Location Data - stop_loc\n",
    "\n",
    "\n",
    "\n",
    "\n"
   ]
  },
  {
   "cell_type": "code",
   "execution_count": 2,
   "metadata": {
    "executionInfo": {
     "elapsed": 3215,
     "status": "ok",
     "timestamp": 1617161746858,
     "user": {
      "displayName": "Gisselle Rodriguez Benitez",
      "photoUrl": "https://lh3.googleusercontent.com/a-/AOh14GiJHPCHjTtc-xW3tSVl2uMDuz1oyPrHUxdQJrJ9HQ=s64",
      "userId": "04892209206852776337"
     },
     "user_tz": 240
    },
    "id": "nQ-21wfkrprE"
   },
   "outputs": [],
   "source": [
    "# reads survey data and convert from excel file to csv\n",
    "# first sheet by default\n",
    "survey_data = pd.read_excel(r'survey.xlsx')\n",
    "# read_file.to_csv(r'survey.csv', index = None, header=True)\n",
    "\n",
    "#reads ridership data\n",
    "ridership_2019data = pd.read_csv(r'ridership19.csv')\n",
    "#change service date to date type\n",
    "ridership_2019data['service_date'] = pd.to_datetime(ridership_2019data['service_date'], format=\"%Y/%m/%d\")\n",
    "\n",
    "ridership_2020data = pd.read_csv(r'ridership20.csv')\n",
    "#change service date to date type\n",
    "ridership_2020data['service_date'] = pd.to_datetime(ridership_2020data['service_date'], format=\"%Y/%m/%d\")\n",
    "\n",
    "#reads stop data\n",
    "stop_loc = pd.read_csv(r'stop_loc.csv')"
   ]
  },
  {
   "cell_type": "code",
   "execution_count": 3,
   "metadata": {
    "executionInfo": {
     "elapsed": 3467,
     "status": "ok",
     "timestamp": 1617161747122,
     "user": {
      "displayName": "Gisselle Rodriguez Benitez",
      "photoUrl": "https://lh3.googleusercontent.com/a-/AOh14GiJHPCHjTtc-xW3tSVl2uMDuz1oyPrHUxdQJrJ9HQ=s64",
      "userId": "04892209206852776337"
     },
     "user_tz": 240
    },
    "id": "w8ChtFcTrprG"
   },
   "outputs": [],
   "source": [
    "#Filter out rows if Mode is \"Commuter Rail\"\n",
    "survey_data = survey_data.loc[survey_data['Mode'] != \"Commuter Rail\"]\n",
    "\n",
    "#Filter out stations with long term constructions\n",
    "constructionstops = ['Wollaston', 'Science Park', 'Lechmere']\n",
    "ridership_2020data = ridership_2020data.loc[~ridership_2020data['station_name'].isin(constructionstops)]\n",
    "ridership_2019data = ridership_2019data.loc[~ridership_2019data['station_name'].isin(constructionstops)]"
   ]
  },
  {
   "cell_type": "markdown",
   "metadata": {
    "id": "CYLE8-bfwTVS"
   },
   "source": [
    "# Joining 2019 and 2020 Ridership Data\n",
    "*   By Year       - joineddf\n",
    "*   By Month      - joinedmonthdf\n",
    "*   By WeekofYear - joinedwoydf"
   ]
  },
  {
   "cell_type": "code",
   "execution_count": 4,
   "metadata": {
    "executionInfo": {
     "elapsed": 340,
     "status": "ok",
     "timestamp": 1617162197896,
     "user": {
      "displayName": "Gisselle Rodriguez Benitez",
      "photoUrl": "https://lh3.googleusercontent.com/a-/AOh14GiJHPCHjTtc-xW3tSVl2uMDuz1oyPrHUxdQJrJ9HQ=s64",
      "userId": "04892209206852776337"
     },
     "user_tz": 240
    },
    "id": "jUibIyA0wcQg"
   },
   "outputs": [],
   "source": [
    "def addweekofyear_df(df):\n",
    "  df['Day'] = df[\"service_date\"].dt.day\n",
    "  df['Month'] = df[\"service_date\"].dt.month\n",
    "  df['Year'] = df[\"service_date\"].dt.year\n",
    "  df['WeekOfYear'] = df['service_date'].dt.isocalendar().week\n",
    "  # Finds the year associated with the Week of Year\n",
    "  df['WeekYear'] = df['service_date'].dt.isocalendar().year\n",
    "\n",
    "def aggregate(df, listofaggbycolumn, aggfunction, aggcol):\n",
    "  \"\"\" performs an aggregate function by the given columns list in the data\n",
    "  frame on the specified column \"\"\"\n",
    "  # Removing as index to become dataframe\n",
    "  df2 = df.groupby(listofaggbycolumn).agg(aggfunction)[aggcol]\n",
    "  return df2.reset_index()\n",
    "  \n",
    "def addpercentchange_df(df):\n",
    "  ''' takes df with columns ['gated_entries2019', 'gated_entries2020']  adds columns with percent change'''\n",
    "  # as a float/decimal\n",
    "  df['PercentChange'] = (df['gated_entries2020']-df['gated_entries2019'])/df['gated_entries2019']"
   ]
  },
  {
   "cell_type": "code",
   "execution_count": 5,
   "metadata": {
    "executionInfo": {
     "elapsed": 1804,
     "status": "ok",
     "timestamp": 1617162199369,
     "user": {
      "displayName": "Gisselle Rodriguez Benitez",
      "photoUrl": "https://lh3.googleusercontent.com/a-/AOh14GiJHPCHjTtc-xW3tSVl2uMDuz1oyPrHUxdQJrJ9HQ=s64",
      "userId": "04892209206852776337"
     },
     "user_tz": 240
    },
    "id": "_R9Mug-V40AK"
   },
   "outputs": [],
   "source": [
    "# Add date related columns\n",
    "addweekofyear_df(ridership_2019data)\n",
    "addweekofyear_df(ridership_2020data)"
   ]
  },
  {
   "cell_type": "code",
   "execution_count": 6,
   "metadata": {
    "executionInfo": {
     "elapsed": 1963,
     "status": "ok",
     "timestamp": 1617162199533,
     "user": {
      "displayName": "Gisselle Rodriguez Benitez",
      "photoUrl": "https://lh3.googleusercontent.com/a-/AOh14GiJHPCHjTtc-xW3tSVl2uMDuz1oyPrHUxdQJrJ9HQ=s64",
      "userId": "04892209206852776337"
     },
     "user_tz": 240
    },
    "id": "Dp1kW5mZOol6"
   },
   "outputs": [],
   "source": [
    "# Aggregate by Year, Station, Line\n",
    "agg_2019  = aggregate(ridership_2020data, [\"route_or_line\", \"station_name\", \"stop_id\"], sum, \"gated_entries\")\n",
    "agg_2020  = aggregate(ridership_2019data, [\"route_or_line\", \"station_name\", \"stop_id\"], sum, \"gated_entries\")\n",
    "# Join both years to compare \n",
    "joineddf = agg_2019.merge(agg_2020, how='outer', on=[\"route_or_line\", \"station_name\", \"stop_id\"], suffixes=['2019','2020'])\n",
    "# Add Percent Change\n",
    "addpercentchange_df(joineddf)"
   ]
  },
  {
   "cell_type": "code",
   "execution_count": 7,
   "metadata": {
    "executionInfo": {
     "elapsed": 2627,
     "status": "ok",
     "timestamp": 1617162200202,
     "user": {
      "displayName": "Gisselle Rodriguez Benitez",
      "photoUrl": "https://lh3.googleusercontent.com/a-/AOh14GiJHPCHjTtc-xW3tSVl2uMDuz1oyPrHUxdQJrJ9HQ=s64",
      "userId": "04892209206852776337"
     },
     "user_tz": 240
    },
    "id": "volYPCCHxKMz"
   },
   "outputs": [],
   "source": [
    "# Aggregate by Month, Station, Line\n",
    "aggmonth_2019  = aggregate(ridership_2020data, [\"Month\", \"route_or_line\", \"station_name\", \"stop_id\"], sum, \"gated_entries\")\n",
    "aggmonth_2020  = aggregate(ridership_2019data, [\"Month\", \"route_or_line\", \"station_name\", \"stop_id\"], sum, \"gated_entries\")\n",
    "# Join both years to compare \n",
    "joinedmonthdf = aggmonth_2019.merge(aggmonth_2020, how='outer', on=[\"Month\", \"route_or_line\", \"station_name\", \"stop_id\"], suffixes=['2019','2020']).dropna()\n",
    "# Add Percent Change\n",
    "addpercentchange_df(joinedmonthdf)"
   ]
  },
  {
   "cell_type": "code",
   "execution_count": 10,
   "metadata": {
    "executionInfo": {
     "elapsed": 3862,
     "status": "ok",
     "timestamp": 1617162201444,
     "user": {
      "displayName": "Gisselle Rodriguez Benitez",
      "photoUrl": "https://lh3.googleusercontent.com/a-/AOh14GiJHPCHjTtc-xW3tSVl2uMDuz1oyPrHUxdQJrJ9HQ=s64",
      "userId": "04892209206852776337"
     },
     "user_tz": 240
    },
    "id": "Xhgk81b5k-rP"
   },
   "outputs": [
    {
     "data": {
      "text/html": [
       "<div>\n",
       "<style scoped>\n",
       "    .dataframe tbody tr th:only-of-type {\n",
       "        vertical-align: middle;\n",
       "    }\n",
       "\n",
       "    .dataframe tbody tr th {\n",
       "        vertical-align: top;\n",
       "    }\n",
       "\n",
       "    .dataframe thead th {\n",
       "        text-align: right;\n",
       "    }\n",
       "</style>\n",
       "<table border=\"1\" class=\"dataframe\">\n",
       "  <thead>\n",
       "    <tr style=\"text-align: right;\">\n",
       "      <th></th>\n",
       "      <th>Month</th>\n",
       "      <th>route_or_line</th>\n",
       "      <th>station_name</th>\n",
       "      <th>stop_id</th>\n",
       "      <th>gated_entries2019</th>\n",
       "      <th>gated_entries2020</th>\n",
       "      <th>PercentChange</th>\n",
       "    </tr>\n",
       "  </thead>\n",
       "  <tbody>\n",
       "    <tr>\n",
       "      <th>0</th>\n",
       "      <td>1</td>\n",
       "      <td>Blue Line</td>\n",
       "      <td>Airport</td>\n",
       "      <td>place-aport</td>\n",
       "      <td>172599.45</td>\n",
       "      <td>177166.0</td>\n",
       "      <td>0.026458</td>\n",
       "    </tr>\n",
       "    <tr>\n",
       "      <th>1</th>\n",
       "      <td>1</td>\n",
       "      <td>Blue Line</td>\n",
       "      <td>Aquarium</td>\n",
       "      <td>place-aqucl</td>\n",
       "      <td>172062.48</td>\n",
       "      <td>105869.0</td>\n",
       "      <td>-0.384706</td>\n",
       "    </tr>\n",
       "    <tr>\n",
       "      <th>2</th>\n",
       "      <td>1</td>\n",
       "      <td>Blue Line</td>\n",
       "      <td>Beachmont</td>\n",
       "      <td>place-bmmnl</td>\n",
       "      <td>164819.86</td>\n",
       "      <td>74198.0</td>\n",
       "      <td>-0.549824</td>\n",
       "    </tr>\n",
       "    <tr>\n",
       "      <th>3</th>\n",
       "      <td>1</td>\n",
       "      <td>Blue Line</td>\n",
       "      <td>Bowdoin</td>\n",
       "      <td>place-bomnl</td>\n",
       "      <td>169377.81</td>\n",
       "      <td>49927.0</td>\n",
       "      <td>-0.705233</td>\n",
       "    </tr>\n",
       "    <tr>\n",
       "      <th>4</th>\n",
       "      <td>1</td>\n",
       "      <td>Blue Line</td>\n",
       "      <td>Government Center</td>\n",
       "      <td>place-gover</td>\n",
       "      <td>167040.13</td>\n",
       "      <td>153597.6</td>\n",
       "      <td>-0.080475</td>\n",
       "    </tr>\n",
       "    <tr>\n",
       "      <th>...</th>\n",
       "      <td>...</td>\n",
       "      <td>...</td>\n",
       "      <td>...</td>\n",
       "      <td>...</td>\n",
       "      <td>...</td>\n",
       "      <td>...</td>\n",
       "      <td>...</td>\n",
       "    </tr>\n",
       "    <tr>\n",
       "      <th>811</th>\n",
       "      <td>12</td>\n",
       "      <td>Red Line</td>\n",
       "      <td>Shawmut</td>\n",
       "      <td>place-smmnl</td>\n",
       "      <td>39395.47</td>\n",
       "      <td>44679.0</td>\n",
       "      <td>0.134115</td>\n",
       "    </tr>\n",
       "    <tr>\n",
       "      <th>812</th>\n",
       "      <td>12</td>\n",
       "      <td>Red Line</td>\n",
       "      <td>South Station</td>\n",
       "      <td>place-sstat</td>\n",
       "      <td>42140.21</td>\n",
       "      <td>338223.2</td>\n",
       "      <td>7.026139</td>\n",
       "    </tr>\n",
       "    <tr>\n",
       "      <th>813</th>\n",
       "      <td>12</td>\n",
       "      <td>Silver Line</td>\n",
       "      <td>Courthouse</td>\n",
       "      <td>place-crtst</td>\n",
       "      <td>41249.18</td>\n",
       "      <td>74181.0</td>\n",
       "      <td>0.798363</td>\n",
       "    </tr>\n",
       "    <tr>\n",
       "      <th>814</th>\n",
       "      <td>12</td>\n",
       "      <td>Silver Line</td>\n",
       "      <td>South Station</td>\n",
       "      <td>place-sstat</td>\n",
       "      <td>41259.86</td>\n",
       "      <td>144952.8</td>\n",
       "      <td>2.513168</td>\n",
       "    </tr>\n",
       "    <tr>\n",
       "      <th>815</th>\n",
       "      <td>12</td>\n",
       "      <td>Silver Line</td>\n",
       "      <td>World Trade Center</td>\n",
       "      <td>place-wtcst</td>\n",
       "      <td>37208.65</td>\n",
       "      <td>17289.0</td>\n",
       "      <td>-0.535350</td>\n",
       "    </tr>\n",
       "  </tbody>\n",
       "</table>\n",
       "<p>816 rows × 7 columns</p>\n",
       "</div>"
      ],
      "text/plain": [
       "     Month route_or_line        station_name      stop_id  gated_entries2019  \\\n",
       "0        1     Blue Line             Airport  place-aport          172599.45   \n",
       "1        1     Blue Line            Aquarium  place-aqucl          172062.48   \n",
       "2        1     Blue Line           Beachmont  place-bmmnl          164819.86   \n",
       "3        1     Blue Line             Bowdoin  place-bomnl          169377.81   \n",
       "4        1     Blue Line   Government Center  place-gover          167040.13   \n",
       "..     ...           ...                 ...          ...                ...   \n",
       "811     12      Red Line             Shawmut  place-smmnl           39395.47   \n",
       "812     12      Red Line       South Station  place-sstat           42140.21   \n",
       "813     12   Silver Line          Courthouse  place-crtst           41249.18   \n",
       "814     12   Silver Line       South Station  place-sstat           41259.86   \n",
       "815     12   Silver Line  World Trade Center  place-wtcst           37208.65   \n",
       "\n",
       "     gated_entries2020  PercentChange  \n",
       "0             177166.0       0.026458  \n",
       "1             105869.0      -0.384706  \n",
       "2              74198.0      -0.549824  \n",
       "3              49927.0      -0.705233  \n",
       "4             153597.6      -0.080475  \n",
       "..                 ...            ...  \n",
       "811            44679.0       0.134115  \n",
       "812           338223.2       7.026139  \n",
       "813            74181.0       0.798363  \n",
       "814           144952.8       2.513168  \n",
       "815            17289.0      -0.535350  \n",
       "\n",
       "[816 rows x 7 columns]"
      ]
     },
     "execution_count": 10,
     "metadata": {},
     "output_type": "execute_result"
    }
   ],
   "source": [
    "#Aggregate by Week of Year, Station, Line\n",
    "# Merge 2019 and 2020 (to adjust for week of year overlaps)\n",
    "week_merge = pd.concat([ridership_2019data, ridership_2020data])\n",
    "# Aggregate by Week of Year and Corresponding Year\n",
    "aggwoy_merged = aggregate(week_merge\n",
    "                          , [\"WeekOfYear\", 'WeekYear', \"route_or_line\"\n",
    "                          , \"station_name\", \"stop_id\"]\n",
    "                          , sum , \"gated_entries\")\n",
    "# Filter by Year\n",
    "woy_2019 = aggwoy_merged.loc[aggwoy_merged['WeekYear']== 2019]\n",
    "woy_2020 = aggwoy_merged.loc[aggwoy_merged['WeekYear'] == 2020]\n",
    "# Join both years to compare (NaNs due to longer 2020 year)\n",
    "joinedwoydf = woy_2019.merge(woy_2020, how='outer', on=[\"WeekOfYear\", \"route_or_line\", \"station_name\", \"stop_id\"], suffixes=['2019','2020']).reset_index().dropna()\n",
    "# Add Percent Change\n",
    "addpercentchange_df(joinedwoydf)\n",
    "\n",
    "# get rid WeekYear \n",
    "joinedmonthdf"
   ]
  },
  {
   "cell_type": "code",
   "execution_count": null,
   "metadata": {},
   "outputs": [],
   "source": []
  }
 ],
 "metadata": {
  "colab": {
   "collapsed_sections": [],
   "name": "MBTA_Project_v1_0.ipynb",
   "provenance": []
  },
  "kernelspec": {
   "display_name": "Python 3",
   "language": "python",
   "name": "python3"
  },
  "language_info": {
   "codemirror_mode": {
    "name": "ipython",
    "version": 3
   },
   "file_extension": ".py",
   "mimetype": "text/x-python",
   "name": "python",
   "nbconvert_exporter": "python",
   "pygments_lexer": "ipython3",
   "version": "3.8.5"
  }
 },
 "nbformat": 4,
 "nbformat_minor": 1
}
