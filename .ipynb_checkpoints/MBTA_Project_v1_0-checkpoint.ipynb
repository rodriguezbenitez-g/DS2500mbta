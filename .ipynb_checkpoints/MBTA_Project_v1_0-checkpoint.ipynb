{
 "cells": [
  {
   "cell_type": "code",
   "execution_count": 2,
   "metadata": {
    "id": "GTslNbWbrpq4"
   },
   "outputs": [],
   "source": [
    "#imports\n",
    "import pandas as pd\n",
    "import re"
   ]
  },
  {
   "cell_type": "markdown",
   "metadata": {
    "id": "VZXzQ7ZhQl3-"
   },
   "source": [
    "# Read and Clean Data\n"
   ]
  },
  {
   "cell_type": "code",
   "execution_count": 49,
   "metadata": {
    "id": "nQ-21wfkrprE"
   },
   "outputs": [],
   "source": [
    "#reads survey data and convert from excel file to csv\n",
    "# first sheet by default\n",
    "survey_data = pd.read_excel(r'survey.xlsx')\n",
    "# read_file.to_csv(r'survey.csv', index = None, header=True)\n",
    "\n",
    "#reads ridership data\n",
    "ridership_2019data = pd.read_csv(r'ridership19.csv')\n",
    "\n",
    "# a little nervous this isn't all of the data\n",
    "ridership_2020data = pd.read_csv(r'ridership20.csv')\n",
    "\n",
    "#reads stop data\n",
    "stop_loc = pd.read_csv(r'stop_loc.csv')"
   ]
  },
  {
   "cell_type": "code",
   "execution_count": 50,
   "metadata": {
    "colab": {
     "base_uri": "https://localhost:8080/",
     "height": 563
    },
    "id": "w8ChtFcTrprG",
    "outputId": "09f6c3a0-9d6f-4f80-9c23-b31133a70956"
   },
   "outputs": [],
   "source": [
    "#Filter out rows if Mode is \"Commuter Rail\"\n",
    "cleaned_survey = cleaned_survey.loc[cleaned_survey['Mode'] != \"Commuter Rail\"]\n",
    "\n",
    "#shows the first 5 rows in the dataframe to save space\n",
    "#cleaned_survey.head(5)"
   ]
  },
  {
   "cell_type": "code",
   "execution_count": 28,
   "metadata": {
    "colab": {
     "base_uri": "https://localhost:8080/",
     "height": 301
    },
    "id": "X1GaX-NTrprI",
    "outputId": "5d3aba61-ef7c-4849-cd16-60f093778a7f"
   },
   "outputs": [],
   "source": [
    "## Change data type of service_date \n",
    "##don't drop NA's!!\n",
    "#drop rows with NA\n",
    "#cleaned_ridership = ridership_2019data.dropna(axis=0)\n",
    "#cleaned_ridership.equals(ridership_2019data)\n",
    "#shows just the first 5 rows in the dataframe to save space\n",
    "#cleaned_ridership.head(10)"
   ]
  },
  {
   "cell_type": "code",
   "execution_count": 19,
   "metadata": {
    "colab": {
     "base_uri": "https://localhost:8080/",
     "height": 195
    },
    "id": "y2Gj9sHgrprJ",
    "outputId": "12be9ddc-de72-4a1e-a28c-4e8e7ad53db1"
   },
   "outputs": [
    {
     "data": {
      "text/plain": [
       "service_date      object\n",
       "time_period       object\n",
       "stop_id           object\n",
       "station_name      object\n",
       "route_or_line     object\n",
       "gated_entries    float64\n",
       "dtype: object"
      ]
     },
     "execution_count": 19,
     "metadata": {},
     "output_type": "execute_result"
    }
   ],
   "source": [
    "## I added only the 2019-2020 data to save space so we might not need this? \n",
    "# Don't delete NAs because some are blanks in station_name\n",
    "#ridership_data_2019_2020 = cleaned_ridership.loc[(cleaned_ridership['service_date'].str.contains('2020|2019', regex = True))]\n",
    "#ridership_data_2019_2020 = ridership_data_2019_2020[[\"service_date\", \"time_period\", \"stop_id\", \"station_name\", \"route_or_line\", \"gated_entries\"]]\n",
    "#ridership_data_2019_2020.dtypes"
   ]
  },
  {
   "cell_type": "code",
   "execution_count": 75,
   "metadata": {
    "id": "d2Fu8MW1rprK"
   },
   "outputs": [],
   "source": []
  },
  {
   "cell_type": "code",
   "execution_count": 75,
   "metadata": {
    "id": "ZDlUUyIgrprL"
   },
   "outputs": [],
   "source": []
  }
 ],
 "metadata": {
  "colab": {
   "name": "MBTA Project v1.0.ipynb",
   "provenance": []
  },
  "kernelspec": {
   "display_name": "Python 3",
   "language": "python",
   "name": "python3"
  },
  "language_info": {
   "codemirror_mode": {
    "name": "ipython",
    "version": 3
   },
   "file_extension": ".py",
   "mimetype": "text/x-python",
   "name": "python",
   "nbconvert_exporter": "python",
   "pygments_lexer": "ipython3",
   "version": "3.8.5"
  }
 },
 "nbformat": 4,
 "nbformat_minor": 1
}
